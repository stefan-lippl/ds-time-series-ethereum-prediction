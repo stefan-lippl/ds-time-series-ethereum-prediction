{
 "cells": [
  {
   "cell_type": "code",
   "execution_count": 1,
   "metadata": {},
   "outputs": [
    {
     "data": {
      "text/html": [
       "<div>\n",
       "<style scoped>\n",
       "    .dataframe tbody tr th:only-of-type {\n",
       "        vertical-align: middle;\n",
       "    }\n",
       "\n",
       "    .dataframe tbody tr th {\n",
       "        vertical-align: top;\n",
       "    }\n",
       "\n",
       "    .dataframe thead th {\n",
       "        text-align: right;\n",
       "    }\n",
       "</style>\n",
       "<table border=\"1\" class=\"dataframe\">\n",
       "  <thead>\n",
       "    <tr style=\"text-align: right;\">\n",
       "      <th></th>\n",
       "      <th>Currency</th>\n",
       "      <th>Closing Price (USD)</th>\n",
       "      <th>24h Open (USD)</th>\n",
       "      <th>24h High (USD)</th>\n",
       "      <th>24h Low (USD)</th>\n",
       "    </tr>\n",
       "    <tr>\n",
       "      <th>Date</th>\n",
       "      <th></th>\n",
       "      <th></th>\n",
       "      <th></th>\n",
       "      <th></th>\n",
       "      <th></th>\n",
       "    </tr>\n",
       "  </thead>\n",
       "  <tbody>\n",
       "    <tr>\n",
       "      <th>2015-08-09</th>\n",
       "      <td>ETH</td>\n",
       "      <td>0.909046</td>\n",
       "      <td>1.749289</td>\n",
       "      <td>1.916540</td>\n",
       "      <td>0.794497</td>\n",
       "    </tr>\n",
       "    <tr>\n",
       "      <th>2015-08-10</th>\n",
       "      <td>ETH</td>\n",
       "      <td>0.692321</td>\n",
       "      <td>0.909046</td>\n",
       "      <td>0.909046</td>\n",
       "      <td>0.692321</td>\n",
       "    </tr>\n",
       "    <tr>\n",
       "      <th>2015-08-11</th>\n",
       "      <td>ETH</td>\n",
       "      <td>0.668067</td>\n",
       "      <td>0.692321</td>\n",
       "      <td>0.692321</td>\n",
       "      <td>0.654331</td>\n",
       "    </tr>\n",
       "    <tr>\n",
       "      <th>2015-08-12</th>\n",
       "      <td>ETH</td>\n",
       "      <td>0.850151</td>\n",
       "      <td>0.668067</td>\n",
       "      <td>1.148621</td>\n",
       "      <td>0.668067</td>\n",
       "    </tr>\n",
       "    <tr>\n",
       "      <th>2015-08-13</th>\n",
       "      <td>ETH</td>\n",
       "      <td>1.266023</td>\n",
       "      <td>0.850151</td>\n",
       "      <td>1.266023</td>\n",
       "      <td>0.850151</td>\n",
       "    </tr>\n",
       "    <tr>\n",
       "      <th>...</th>\n",
       "      <td>...</td>\n",
       "      <td>...</td>\n",
       "      <td>...</td>\n",
       "      <td>...</td>\n",
       "      <td>...</td>\n",
       "    </tr>\n",
       "    <tr>\n",
       "      <th>2021-07-25</th>\n",
       "      <td>ETH</td>\n",
       "      <td>2167.821498</td>\n",
       "      <td>2124.998501</td>\n",
       "      <td>2200.929807</td>\n",
       "      <td>2106.546966</td>\n",
       "    </tr>\n",
       "    <tr>\n",
       "      <th>2021-07-26</th>\n",
       "      <td>ETH</td>\n",
       "      <td>2161.052224</td>\n",
       "      <td>2186.836377</td>\n",
       "      <td>2196.240513</td>\n",
       "      <td>2109.197417</td>\n",
       "    </tr>\n",
       "    <tr>\n",
       "      <th>2021-07-27</th>\n",
       "      <td>ETH</td>\n",
       "      <td>2225.740338</td>\n",
       "      <td>2191.760797</td>\n",
       "      <td>2431.124400</td>\n",
       "      <td>2173.806296</td>\n",
       "    </tr>\n",
       "    <tr>\n",
       "      <th>2021-07-28</th>\n",
       "      <td>ETH</td>\n",
       "      <td>2300.611383</td>\n",
       "      <td>2228.833987</td>\n",
       "      <td>2320.008071</td>\n",
       "      <td>2153.319229</td>\n",
       "    </tr>\n",
       "    <tr>\n",
       "      <th>2021-07-29</th>\n",
       "      <td>ETH</td>\n",
       "      <td>2303.377934</td>\n",
       "      <td>2301.368897</td>\n",
       "      <td>2346.697897</td>\n",
       "      <td>2248.170308</td>\n",
       "    </tr>\n",
       "  </tbody>\n",
       "</table>\n",
       "<p>2167 rows × 5 columns</p>\n",
       "</div>"
      ],
      "text/plain": [
       "           Currency  Closing Price (USD)  24h Open (USD)  24h High (USD)  \\\n",
       "Date                                                                       \n",
       "2015-08-09      ETH             0.909046        1.749289        1.916540   \n",
       "2015-08-10      ETH             0.692321        0.909046        0.909046   \n",
       "2015-08-11      ETH             0.668067        0.692321        0.692321   \n",
       "2015-08-12      ETH             0.850151        0.668067        1.148621   \n",
       "2015-08-13      ETH             1.266023        0.850151        1.266023   \n",
       "...             ...                  ...             ...             ...   \n",
       "2021-07-25      ETH          2167.821498     2124.998501     2200.929807   \n",
       "2021-07-26      ETH          2161.052224     2186.836377     2196.240513   \n",
       "2021-07-27      ETH          2225.740338     2191.760797     2431.124400   \n",
       "2021-07-28      ETH          2300.611383     2228.833987     2320.008071   \n",
       "2021-07-29      ETH          2303.377934     2301.368897     2346.697897   \n",
       "\n",
       "            24h Low (USD)  \n",
       "Date                       \n",
       "2015-08-09       0.794497  \n",
       "2015-08-10       0.692321  \n",
       "2015-08-11       0.654331  \n",
       "2015-08-12       0.668067  \n",
       "2015-08-13       0.850151  \n",
       "...                   ...  \n",
       "2021-07-25    2106.546966  \n",
       "2021-07-26    2109.197417  \n",
       "2021-07-27    2173.806296  \n",
       "2021-07-28    2153.319229  \n",
       "2021-07-29    2248.170308  \n",
       "\n",
       "[2167 rows x 5 columns]"
      ]
     },
     "execution_count": 1,
     "metadata": {},
     "output_type": "execute_result"
    }
   ],
   "source": [
    "# Import with pandas \n",
    "import pandas as pd\n",
    "# Parse dates and set date column to index\n",
    "df = pd.read_csv(\"ETH_USD_2015-08-09_2021-07-29-CoinDesk.csv\", \n",
    "                 parse_dates=[\"Date\"], \n",
    "                 index_col=[\"Date\"]) # parse the date column (tell pandas column 1 is a datetime)\n",
    "df"
   ]
  },
  {
   "cell_type": "code",
   "execution_count": 4,
   "metadata": {},
   "outputs": [
    {
     "name": "stdout",
     "output_type": "stream",
     "text": [
      "<class 'pandas.core.frame.DataFrame'>\n",
      "DatetimeIndex: 2167 entries, 2015-08-09 to 2021-07-29\n",
      "Data columns (total 5 columns):\n",
      " #   Column               Non-Null Count  Dtype  \n",
      "---  ------               --------------  -----  \n",
      " 0   Currency             2167 non-null   object \n",
      " 1   Closing Price (USD)  2167 non-null   float64\n",
      " 2   24h Open (USD)       2167 non-null   float64\n",
      " 3   24h High (USD)       2167 non-null   float64\n",
      " 4   24h Low (USD)        2167 non-null   float64\n",
      "dtypes: float64(4), object(1)\n",
      "memory usage: 101.6+ KB\n"
     ]
    }
   ],
   "source": [
    "df.info()"
   ]
  },
  {
   "cell_type": "code",
   "execution_count": 5,
   "metadata": {},
   "outputs": [
    {
     "data": {
      "text/html": [
       "<div>\n",
       "<style scoped>\n",
       "    .dataframe tbody tr th:only-of-type {\n",
       "        vertical-align: middle;\n",
       "    }\n",
       "\n",
       "    .dataframe tbody tr th {\n",
       "        vertical-align: top;\n",
       "    }\n",
       "\n",
       "    .dataframe thead th {\n",
       "        text-align: right;\n",
       "    }\n",
       "</style>\n",
       "<table border=\"1\" class=\"dataframe\">\n",
       "  <thead>\n",
       "    <tr style=\"text-align: right;\">\n",
       "      <th></th>\n",
       "      <th>Closing Price (USD)</th>\n",
       "      <th>24h Open (USD)</th>\n",
       "      <th>24h High (USD)</th>\n",
       "      <th>24h Low (USD)</th>\n",
       "    </tr>\n",
       "  </thead>\n",
       "  <tbody>\n",
       "    <tr>\n",
       "      <th>count</th>\n",
       "      <td>2167.000000</td>\n",
       "      <td>2167.000000</td>\n",
       "      <td>2167.000000</td>\n",
       "      <td>2167.000000</td>\n",
       "    </tr>\n",
       "    <tr>\n",
       "      <th>mean</th>\n",
       "      <td>401.778084</td>\n",
       "      <td>400.881804</td>\n",
       "      <td>417.540962</td>\n",
       "      <td>381.501185</td>\n",
       "    </tr>\n",
       "    <tr>\n",
       "      <th>std</th>\n",
       "      <td>623.198818</td>\n",
       "      <td>622.010473</td>\n",
       "      <td>650.574426</td>\n",
       "      <td>588.623262</td>\n",
       "    </tr>\n",
       "    <tr>\n",
       "      <th>min</th>\n",
       "      <td>0.428394</td>\n",
       "      <td>0.428394</td>\n",
       "      <td>0.490282</td>\n",
       "      <td>0.416424</td>\n",
       "    </tr>\n",
       "    <tr>\n",
       "      <th>25%</th>\n",
       "      <td>13.737184</td>\n",
       "      <td>13.693326</td>\n",
       "      <td>14.305215</td>\n",
       "      <td>13.172584</td>\n",
       "    </tr>\n",
       "    <tr>\n",
       "      <th>50%</th>\n",
       "      <td>198.977351</td>\n",
       "      <td>198.823019</td>\n",
       "      <td>204.534000</td>\n",
       "      <td>191.340458</td>\n",
       "    </tr>\n",
       "    <tr>\n",
       "      <th>75%</th>\n",
       "      <td>394.441686</td>\n",
       "      <td>394.363925</td>\n",
       "      <td>408.842600</td>\n",
       "      <td>381.095583</td>\n",
       "    </tr>\n",
       "    <tr>\n",
       "      <th>max</th>\n",
       "      <td>4132.757546</td>\n",
       "      <td>4179.931743</td>\n",
       "      <td>4382.725834</td>\n",
       "      <td>3940.061711</td>\n",
       "    </tr>\n",
       "  </tbody>\n",
       "</table>\n",
       "</div>"
      ],
      "text/plain": [
       "       Closing Price (USD)  24h Open (USD)  24h High (USD)  24h Low (USD)\n",
       "count          2167.000000     2167.000000     2167.000000    2167.000000\n",
       "mean            401.778084      400.881804      417.540962     381.501185\n",
       "std             623.198818      622.010473      650.574426     588.623262\n",
       "min               0.428394        0.428394        0.490282       0.416424\n",
       "25%              13.737184       13.693326       14.305215      13.172584\n",
       "50%             198.977351      198.823019      204.534000     191.340458\n",
       "75%             394.441686      394.363925      408.842600     381.095583\n",
       "max            4132.757546     4179.931743     4382.725834    3940.061711"
      ]
     },
     "execution_count": 5,
     "metadata": {},
     "output_type": "execute_result"
    }
   ],
   "source": [
    "df.describe()"
   ]
  },
  {
   "cell_type": "code",
   "execution_count": 6,
   "metadata": {},
   "outputs": [
    {
     "data": {
      "text/html": [
       "<div>\n",
       "<style scoped>\n",
       "    .dataframe tbody tr th:only-of-type {\n",
       "        vertical-align: middle;\n",
       "    }\n",
       "\n",
       "    .dataframe tbody tr th {\n",
       "        vertical-align: top;\n",
       "    }\n",
       "\n",
       "    .dataframe thead th {\n",
       "        text-align: right;\n",
       "    }\n",
       "</style>\n",
       "<table border=\"1\" class=\"dataframe\">\n",
       "  <thead>\n",
       "    <tr style=\"text-align: right;\">\n",
       "      <th></th>\n",
       "      <th>Price</th>\n",
       "    </tr>\n",
       "    <tr>\n",
       "      <th>Date</th>\n",
       "      <th></th>\n",
       "    </tr>\n",
       "  </thead>\n",
       "  <tbody>\n",
       "    <tr>\n",
       "      <th>2015-08-09</th>\n",
       "      <td>0.909046</td>\n",
       "    </tr>\n",
       "    <tr>\n",
       "      <th>2015-08-10</th>\n",
       "      <td>0.692321</td>\n",
       "    </tr>\n",
       "    <tr>\n",
       "      <th>2015-08-11</th>\n",
       "      <td>0.668067</td>\n",
       "    </tr>\n",
       "    <tr>\n",
       "      <th>2015-08-12</th>\n",
       "      <td>0.850151</td>\n",
       "    </tr>\n",
       "    <tr>\n",
       "      <th>2015-08-13</th>\n",
       "      <td>1.266023</td>\n",
       "    </tr>\n",
       "  </tbody>\n",
       "</table>\n",
       "</div>"
      ],
      "text/plain": [
       "               Price\n",
       "Date                \n",
       "2015-08-09  0.909046\n",
       "2015-08-10  0.692321\n",
       "2015-08-11  0.668067\n",
       "2015-08-12  0.850151\n",
       "2015-08-13  1.266023"
      ]
     },
     "execution_count": 6,
     "metadata": {},
     "output_type": "execute_result"
    }
   ],
   "source": [
    "# Only want closing price for each day \n",
    "eth_prices = pd.DataFrame(df[\"Closing Price (USD)\"]).rename(columns={\"Closing Price (USD)\": \"Price\"})\n",
    "eth_prices.head()"
   ]
  },
  {
   "cell_type": "code",
   "execution_count": 7,
   "metadata": {},
   "outputs": [
    {
     "data": {
      "image/png": "[encoded data removed]",
      "text/plain": [
       "<Figure size 720x504 with 1 Axes>"
      ]
     },
     "metadata": {
      "needs_background": "light"
     },
     "output_type": "display_data"
    }
   ],
   "source": [
    "import matplotlib.pyplot as plt\n",
    "eth_prices.plot(figsize=(10, 7))\n",
    "plt.ylabel(\"ETH Price\")\n",
    "plt.title(\"Price of ETH\", fontsize=16)\n",
    "plt.legend(fontsize=14);"
   ]
  },
  {
   "cell_type": "code",
   "execution_count": 8,
   "metadata": {
    "scrolled": true
   },
   "outputs": [
    {
     "data": {
      "text/plain": [
       "(               Price\n",
       " Date                \n",
       " 2015-08-09  0.909046\n",
       " 2015-08-10  0.692321\n",
       " 2015-08-11  0.668067\n",
       " 2015-08-12  0.850151\n",
       " 2015-08-13  1.266023,\n",
       "         Date\n",
       " 0 2015-08-09\n",
       " 1 2015-08-10\n",
       " 2 2015-08-11\n",
       " 3 2015-08-12\n",
       " 4 2015-08-13)"
      ]
     },
     "execution_count": 8,
     "metadata": {},
     "output_type": "execute_result"
    }
   ],
   "source": [
    "# Only want closing price for each day \n",
    "prices = pd.DataFrame(df[\"Closing Price (USD)\"]).rename(columns={\"Closing Price (USD)\": \"Price\"})\n",
    "timesteps = pd.DataFrame(df.index)\n",
    "prices.head(), timesteps.head()"
   ]
  },
  {
   "cell_type": "code",
   "execution_count": 9,
   "metadata": {},
   "outputs": [
    {
     "data": {
      "text/plain": [
       "(array(['2015-08-09T00:00:00.000000000', '2015-08-10T00:00:00.000000000',\n",
       "        '2015-08-11T00:00:00.000000000', '2015-08-12T00:00:00.000000000',\n",
       "        '2015-08-13T00:00:00.000000000', '2015-08-14T00:00:00.000000000',\n",
       "        '2015-08-15T00:00:00.000000000', '2015-08-16T00:00:00.000000000',\n",
       "        '2015-08-17T00:00:00.000000000', '2015-08-18T00:00:00.000000000'],\n",
       "       dtype='datetime64[ns]'),\n",
       " array([0.909046, 0.692321, 0.668067, 0.850151, 1.266023, 1.95146 ,\n",
       "        1.591219, 1.693707, 1.423244, 1.199595]))"
      ]
     },
     "execution_count": 9,
     "metadata": {},
     "output_type": "execute_result"
    }
   ],
   "source": [
    "# Get bitcoin date array\n",
    "timesteps = eth_prices.index.to_numpy()\n",
    "prices = eth_prices[\"Price\"].to_numpy()\n",
    "\n",
    "timesteps[:10], prices[:10]"
   ]
  },
  {
   "cell_type": "code",
   "execution_count": 10,
   "metadata": {},
   "outputs": [
    {
     "data": {
      "text/plain": [
       "(1733, 434, 1733, 434)"
      ]
     },
     "execution_count": 10,
     "metadata": {},
     "output_type": "execute_result"
    }
   ],
   "source": [
    "# Create train and test splits the right way for time series data\n",
    "split_size = int(0.8 * len(prices)) # 80% train, 20% test\n",
    "\n",
    "# Create train data splits (everything before the split)\n",
    "X_train, y_train = timesteps[:split_size], prices[:split_size]\n",
    "\n",
    "# Create test data splits (everything after the split)\n",
    "X_test, y_test = timesteps[split_size:], prices[split_size:]\n",
    "\n",
    "len(X_train), len(X_test), len(y_train), len(y_test)"
   ]
  },
  {
   "cell_type": "code",
   "execution_count": 14,
   "metadata": {},
   "outputs": [],
   "source": [
    "# Create a function to plot time series data\n",
    "def plot_time_series(timesteps, values, format='.', start=0, end=None, label=None):\n",
    "    \"\"\"\n",
    "    Plots a timesteps (a series of points in time) against values (a series of values across timesteps).\n",
    "\n",
    "    Parameters\n",
    "    ---------\n",
    "    timesteps : array of timesteps\n",
    "    values : array of values across time\n",
    "    format : style of plot, default \".\"\n",
    "    start : where to start the plot (setting a value will index from start of timesteps & values)\n",
    "    end : where to end the plot (setting a value will index from end of timesteps & values)\n",
    "    label : label to show on plot of values\n",
    "    \"\"\"\n",
    "    # Plot the series\n",
    "    plt.plot(timesteps[start:end], values[start:end], format, label=label)\n",
    "    plt.xlabel(\"Time\")\n",
    "    plt.ylabel(\"BTC Price\")\n",
    "    if label:\n",
    "        plt.legend(fontsize=14) # make label bigger\n",
    "    plt.grid(True)"
   ]
  },
  {
   "cell_type": "code",
   "execution_count": 15,
   "metadata": {},
   "outputs": [
    {
     "data": {
      "image/png": "[encoded data removed]",
      "text/plain": [
       "<Figure size 720x504 with 1 Axes>"
      ]
     },
     "metadata": {
      "needs_background": "light"
     },
     "output_type": "display_data"
    }
   ],
   "source": [
    "# Try out our plotting function\n",
    "plt.figure(figsize=(10, 7))\n",
    "plot_time_series(timesteps=X_train, values=y_train, label=\"Train data\")\n",
    "plot_time_series(timesteps=X_test, values=y_test, label=\"Test data\")"
   ]
  },
  {
   "cell_type": "code",
   "execution_count": 16,
   "metadata": {},
   "outputs": [],
   "source": [
    "# Let's get TensorFlow! \n",
    "import tensorflow as tf"
   ]
  },
  {
   "cell_type": "code",
   "execution_count": 19,
   "metadata": {},
   "outputs": [],
   "source": [
    "# MASE implemented courtesy of sktime - https://github.com/alan-turing-institute/sktime/blob/ee7a06843a44f4aaec7582d847e36073a9ab0566/sktime/performance_metrics/forecasting/_functions.py#L16\n",
    "def mean_absolute_scaled_error(y_true, y_pred):\n",
    "    \"\"\"\n",
    "    Implement MASE (assuming no seasonality of data).\n",
    "    \"\"\"\n",
    "    mae = tf.reduce_mean(tf.abs(y_true - y_pred))\n",
    "\n",
    "    # Find MAE of naive forecast (no seasonality)\n",
    "    mae_naive_no_season = tf.reduce_mean(tf.abs(y_true[1:] - y_true[:-1])) # our seasonality is 1 day (hence the shifting of 1 day)\n",
    "\n",
    "    return mae / mae_naive_no_season"
   ]
  },
  {
   "cell_type": "code",
   "execution_count": 20,
   "metadata": {},
   "outputs": [],
   "source": [
    "def evaluate_preds(y_true, y_pred):\n",
    "    # Make sure float32 (for metric calculations)\n",
    "    y_true = tf.cast(y_true, dtype=tf.float32)\n",
    "    y_pred = tf.cast(y_pred, dtype=tf.float32)\n",
    "\n",
    "    # Calculate various metrics\n",
    "    mae = tf.keras.metrics.mean_absolute_error(y_true, y_pred)\n",
    "    mse = tf.keras.metrics.mean_squared_error(y_true, y_pred) # puts and emphasis on outliers (all errors get squared)\n",
    "    rmse = tf.sqrt(mse)\n",
    "    mape = tf.keras.metrics.mean_absolute_percentage_error(y_true, y_pred)\n",
    "    mase = mean_absolute_scaled_error(y_true, y_pred)\n",
    "\n",
    "    return {\"mae\": mae.numpy(),\n",
    "          \"mse\": mse.numpy(),\n",
    "          \"rmse\": rmse.numpy(),\n",
    "          \"mape\": mape.numpy(),\n",
    "          \"mase\": mase.numpy()}"
   ]
  },
  {
   "cell_type": "code",
   "execution_count": 21,
   "metadata": {},
   "outputs": [],
   "source": [
    "HORIZON = 1 # predict 1 step at a time\n",
    "WINDOW_SIZE = 7 # use a week worth of timesteps to predict the horizon"
   ]
  },
  {
   "cell_type": "code",
   "execution_count": 22,
   "metadata": {},
   "outputs": [],
   "source": [
    "# Create function to label windowed data\n",
    "def get_labelled_windows(x, horizon=1):\n",
    "    \"\"\"\n",
    "    Creates labels for windowed dataset.\n",
    "\n",
    "    E.g. if horizon=1 (default)\n",
    "    Input: [1, 2, 3, 4, 5, 6] -> Output: ([1, 2, 3, 4, 5], [6])\n",
    "    \"\"\"\n",
    "    return x[:, :-horizon], x[:, -horizon:]"
   ]
  },
  {
   "cell_type": "code",
   "execution_count": 23,
   "metadata": {},
   "outputs": [
    {
     "name": "stdout",
     "output_type": "stream",
     "text": [
      "Window: [1 2 3 4 5 6 7] -> Label: 8\n"
     ]
    }
   ],
   "source": [
    "# Test out the window labelling function\n",
    "test_window, test_label = get_labelled_windows(tf.expand_dims(tf.range(8)+1, axis=0), horizon=HORIZON)\n",
    "print(f\"Window: {tf.squeeze(test_window).numpy()} -> Label: {tf.squeeze(test_label).numpy()}\")"
   ]
  },
  {
   "cell_type": "code",
   "execution_count": 24,
   "metadata": {},
   "outputs": [],
   "source": [
    "# Create function to view NumPy arrays as windows \n",
    "def make_windows(x, window_size=7, horizon=1):\n",
    "    \"\"\"\n",
    "    Turns a 1D array into a 2D array of sequential windows of window_size.\n",
    "    \"\"\"\n",
    "    # 1. Create a window of specific window_size (add the horizon on the end for later labelling)\n",
    "    window_step = np.expand_dims(np.arange(window_size+horizon), axis=0)\n",
    "    # print(f\"Window step:\\n {window_step}\")\n",
    "\n",
    "    # 2. Create a 2D array of multiple window steps (minus 1 to account for 0 indexing)\n",
    "    window_indexes = window_step + np.expand_dims(np.arange(len(x)-(window_size+horizon-1)), axis=0).T # create 2D array of windows of size window_size\n",
    "    # print(f\"Window indexes:\\n {window_indexes[:3], window_indexes[-3:], window_indexes.shape}\")\n",
    "\n",
    "    # 3. Index on the target array (time series) with 2D array of multiple window steps\n",
    "    windowed_array = x[window_indexes]\n",
    "\n",
    "    # 4. Get the labelled windows\n",
    "    windows, labels = get_labelled_windows(windowed_array, horizon=horizon)\n",
    "\n",
    "    return windows, labels"
   ]
  },
  {
   "cell_type": "code",
   "execution_count": 26,
   "metadata": {},
   "outputs": [
    {
     "data": {
      "text/plain": [
       "(2160, 2160)"
      ]
     },
     "execution_count": 26,
     "metadata": {},
     "output_type": "execute_result"
    }
   ],
   "source": [
    "import numpy as np\n",
    "\n",
    "full_windows, full_labels = make_windows(prices, window_size=WINDOW_SIZE, horizon=HORIZON)\n",
    "len(full_windows), len(full_labels)"
   ]
  },
  {
   "cell_type": "code",
   "execution_count": 27,
   "metadata": {},
   "outputs": [],
   "source": [
    "# Make the train/test splits\n",
    "def make_train_test_splits(windows, labels, test_split=0.2):\n",
    "    \"\"\"\n",
    "    Splits matching pairs of windows and labels into train and test splits.\n",
    "    \"\"\"\n",
    "    split_size = int(len(windows) * (1-test_split)) # this will default to 80% train/20% test\n",
    "    train_windows = windows[:split_size]\n",
    "    train_labels = labels[:split_size]\n",
    "    test_windows = windows[split_size:]\n",
    "    test_labels = labels[split_size:]\n",
    "    return train_windows, test_windows, train_labels, test_labels"
   ]
  },
  {
   "cell_type": "code",
   "execution_count": 28,
   "metadata": {},
   "outputs": [
    {
     "data": {
      "text/plain": [
       "(1728, 432, 1728, 432)"
      ]
     },
     "execution_count": 28,
     "metadata": {},
     "output_type": "execute_result"
    }
   ],
   "source": [
    "train_windows, test_windows, train_labels, test_labels = make_train_test_splits(full_windows, full_labels)\n",
    "len(train_windows), len(test_windows), len(train_labels), len(test_labels)"
   ]
  },
  {
   "cell_type": "code",
   "execution_count": 30,
   "metadata": {},
   "outputs": [],
   "source": [
    "import os\n",
    "\n",
    "# Create a function to implement a ModelCheckpoint callback with a specific filename \n",
    "def create_model_checkpoint(model_name, save_path=\".modelcheckpoint/model_experiments\"):\n",
    "    return tf.keras.callbacks.ModelCheckpoint(filepath=os.path.join(save_path, model_name), # create filepath to save model\n",
    "                                            verbose=0, # only output a limited amount of text\n",
    "                                            save_best_only=True) # save only the best model to file\n"
   ]
  },
  {
   "cell_type": "code",
   "execution_count": 31,
   "metadata": {},
   "outputs": [
    {
     "name": "stdout",
     "output_type": "stream",
     "text": [
      "Epoch 1/100\n",
      "14/14 [==============================] - 0s 12ms/step - loss: 88.3835 - mae: 88.3835 - val_loss: 143.7400 - val_mae: 143.7400\n",
      "INFO:tensorflow:Assets written to: .modelcheckpoint/model_experiments/model_1_dense/assets\n",
      "Epoch 2/100\n",
      "14/14 [==============================] - 0s 3ms/step - loss: 27.0202 - mae: 27.0202 - val_loss: 119.7230 - val_mae: 119.7230\n",
      "INFO:tensorflow:Assets written to: .modelcheckpoint/model_experiments/model_1_dense/assets\n",
      "Epoch 3/100\n",
      "14/14 [==============================] - 0s 3ms/step - loss: 16.8745 - mae: 16.8745 - val_loss: 84.1055 - val_mae: 84.1055\n",
      "INFO:tensorflow:Assets written to: .modelcheckpoint/model_experiments/model_1_dense/assets\n",
      "Epoch 4/100\n",
      "14/14 [==============================] - 0s 3ms/step - loss: 14.2313 - mae: 14.2313 - val_loss: 81.5398 - val_mae: 81.5398\n",
      "INFO:tensorflow:Assets written to: .modelcheckpoint/model_experiments/model_1_dense/assets\n",
      "Epoch 5/100\n",
      "14/14 [==============================] - 0s 3ms/step - loss: 13.7378 - mae: 13.7378 - val_loss: 76.5856 - val_mae: 76.5856\n",
      "INFO:tensorflow:Assets written to: .modelcheckpoint/model_experiments/model_1_dense/assets\n",
      "Epoch 6/100\n",
      "14/14 [==============================] - 0s 3ms/step - loss: 13.2404 - mae: 13.2404 - val_loss: 73.3675 - val_mae: 73.3675\n",
      "INFO:tensorflow:Assets written to: .modelcheckpoint/model_experiments/model_1_dense/assets\n",
      "Epoch 7/100\n",
      "14/14 [==============================] - 0s 3ms/step - loss: 12.8014 - mae: 12.8014 - val_loss: 72.9056 - val_mae: 72.9056\n",
      "INFO:tensorflow:Assets written to: .modelcheckpoint/model_experiments/model_1_dense/assets\n",
      "Epoch 8/100\n",
      "14/14 [==============================] - 0s 3ms/step - loss: 11.3806 - mae: 11.3806 - val_loss: 70.3702 - val_mae: 70.3702\n",
      "INFO:tensorflow:Assets written to: .modelcheckpoint/model_experiments/model_1_dense/assets\n",
      "Epoch 9/100\n",
      "14/14 [==============================] - 0s 3ms/step - loss: 12.2510 - mae: 12.2510 - val_loss: 68.8227 - val_mae: 68.8227\n",
      "INFO:tensorflow:Assets written to: .modelcheckpoint/model_experiments/model_1_dense/assets\n",
      "Epoch 10/100\n",
      "14/14 [==============================] - 0s 3ms/step - loss: 11.7187 - mae: 11.7187 - val_loss: 64.4593 - val_mae: 64.4593\n",
      "INFO:tensorflow:Assets written to: .modelcheckpoint/model_experiments/model_1_dense/assets\n",
      "Epoch 11/100\n",
      "14/14 [==============================] - 0s 3ms/step - loss: 10.0588 - mae: 10.0588 - val_loss: 63.4649 - val_mae: 63.4649\n",
      "INFO:tensorflow:Assets written to: .modelcheckpoint/model_experiments/model_1_dense/assets\n",
      "Epoch 12/100\n",
      "14/14 [==============================] - 0s 3ms/step - loss: 10.7206 - mae: 10.7206 - val_loss: 62.3879 - val_mae: 62.3879\n",
      "INFO:tensorflow:Assets written to: .modelcheckpoint/model_experiments/model_1_dense/assets\n",
      "Epoch 13/100\n",
      "14/14 [==============================] - 0s 3ms/step - loss: 9.6845 - mae: 9.6845 - val_loss: 61.5722 - val_mae: 61.5722\n",
      "INFO:tensorflow:Assets written to: .modelcheckpoint/model_experiments/model_1_dense/assets\n",
      "Epoch 14/100\n",
      "14/14 [==============================] - 0s 4ms/step - loss: 10.9307 - mae: 10.9307 - val_loss: 60.9982 - val_mae: 60.9982\n",
      "INFO:tensorflow:Assets written to: .modelcheckpoint/model_experiments/model_1_dense/assets\n",
      "Epoch 15/100\n",
      "14/14 [==============================] - 0s 11ms/step - loss: 10.0530 - mae: 10.0530 - val_loss: 60.5192 - val_mae: 60.5192\n",
      "INFO:tensorflow:Assets written to: .modelcheckpoint/model_experiments/model_1_dense/assets\n",
      "Epoch 16/100\n",
      "14/14 [==============================] - 0s 3ms/step - loss: 10.3641 - mae: 10.3641 - val_loss: 60.6337 - val_mae: 60.6337\n",
      "Epoch 17/100\n",
      "14/14 [==============================] - 0s 3ms/step - loss: 9.7789 - mae: 9.7789 - val_loss: 60.0471 - val_mae: 60.0471\n",
      "INFO:tensorflow:Assets written to: .modelcheckpoint/model_experiments/model_1_dense/assets\n",
      "Epoch 18/100\n",
      "14/14 [==============================] - 0s 3ms/step - loss: 10.2399 - mae: 10.2399 - val_loss: 59.4535 - val_mae: 59.4535\n",
      "INFO:tensorflow:Assets written to: .modelcheckpoint/model_experiments/model_1_dense/assets\n",
      "Epoch 19/100\n",
      "14/14 [==============================] - 0s 4ms/step - loss: 10.7788 - mae: 10.7788 - val_loss: 59.3658 - val_mae: 59.3658\n",
      "INFO:tensorflow:Assets written to: .modelcheckpoint/model_experiments/model_1_dense/assets\n",
      "Epoch 20/100\n",
      "14/14 [==============================] - 0s 3ms/step - loss: 10.0701 - mae: 10.0701 - val_loss: 61.3652 - val_mae: 61.3652\n",
      "Epoch 21/100\n",
      "14/14 [==============================] - 0s 3ms/step - loss: 10.6554 - mae: 10.6554 - val_loss: 60.3591 - val_mae: 60.3591\n",
      "Epoch 22/100\n",
      "14/14 [==============================] - 0s 3ms/step - loss: 10.4738 - mae: 10.4738 - val_loss: 60.1515 - val_mae: 60.1515\n",
      "Epoch 23/100\n",
      "14/14 [==============================] - 0s 3ms/step - loss: 9.0706 - mae: 9.0706 - val_loss: 60.5285 - val_mae: 60.5285\n",
      "Epoch 24/100\n",
      "14/14 [==============================] - 0s 3ms/step - loss: 9.6858 - mae: 9.6858 - val_loss: 62.5854 - val_mae: 62.5854\n",
      "Epoch 25/100\n",
      "14/14 [==============================] - 0s 3ms/step - loss: 9.7658 - mae: 9.7658 - val_loss: 57.1678 - val_mae: 57.1678\n",
      "INFO:tensorflow:Assets written to: .modelcheckpoint/model_experiments/model_1_dense/assets\n",
      "Epoch 26/100\n",
      "14/14 [==============================] - 0s 4ms/step - loss: 9.5295 - mae: 9.5295 - val_loss: 57.8608 - val_mae: 57.8608\n",
      "Epoch 27/100\n",
      "14/14 [==============================] - 0s 3ms/step - loss: 10.2109 - mae: 10.2109 - val_loss: 58.6123 - val_mae: 58.6123\n",
      "Epoch 28/100\n",
      "14/14 [==============================] - 0s 3ms/step - loss: 9.9483 - mae: 9.9483 - val_loss: 56.4631 - val_mae: 56.4631\n",
      "INFO:tensorflow:Assets written to: .modelcheckpoint/model_experiments/model_1_dense/assets\n",
      "Epoch 29/100\n",
      "14/14 [==============================] - 0s 3ms/step - loss: 10.2415 - mae: 10.2415 - val_loss: 56.6918 - val_mae: 56.6918\n",
      "Epoch 30/100\n",
      "14/14 [==============================] - 0s 3ms/step - loss: 9.1658 - mae: 9.1658 - val_loss: 56.0670 - val_mae: 56.0670\n",
      "INFO:tensorflow:Assets written to: .modelcheckpoint/model_experiments/model_1_dense/assets\n",
      "Epoch 31/100\n",
      "14/14 [==============================] - 0s 10ms/step - loss: 9.9534 - mae: 9.9534 - val_loss: 56.0367 - val_mae: 56.0367\n",
      "INFO:tensorflow:Assets written to: .modelcheckpoint/model_experiments/model_1_dense/assets\n",
      "Epoch 32/100\n",
      "14/14 [==============================] - 0s 3ms/step - loss: 8.9652 - mae: 8.9652 - val_loss: 57.3934 - val_mae: 57.3934\n",
      "Epoch 33/100\n",
      "14/14 [==============================] - 0s 3ms/step - loss: 10.8210 - mae: 10.8210 - val_loss: 55.9565 - val_mae: 55.9565\n",
      "INFO:tensorflow:Assets written to: .modelcheckpoint/model_experiments/model_1_dense/assets\n",
      "Epoch 34/100\n",
      "14/14 [==============================] - 0s 3ms/step - loss: 10.2005 - mae: 10.2005 - val_loss: 55.4159 - val_mae: 55.4159\n",
      "INFO:tensorflow:Assets written to: .modelcheckpoint/model_experiments/model_1_dense/assets\n",
      "Epoch 35/100\n",
      "14/14 [==============================] - 0s 3ms/step - loss: 10.0349 - mae: 10.0349 - val_loss: 55.5985 - val_mae: 55.5985\n",
      "Epoch 36/100\n",
      "14/14 [==============================] - 0s 3ms/step - loss: 9.2536 - mae: 9.2536 - val_loss: 55.5793 - val_mae: 55.5793\n",
      "Epoch 37/100\n",
      "14/14 [==============================] - 0s 3ms/step - loss: 9.1039 - mae: 9.1039 - val_loss: 56.1662 - val_mae: 56.1662\n",
      "Epoch 38/100\n",
      "14/14 [==============================] - 0s 3ms/step - loss: 9.6888 - mae: 9.6888 - val_loss: 57.3214 - val_mae: 57.3214\n",
      "Epoch 39/100\n",
      "14/14 [==============================] - 0s 3ms/step - loss: 9.0438 - mae: 9.0438 - val_loss: 57.7063 - val_mae: 57.7063\n",
      "Epoch 40/100\n",
      "14/14 [==============================] - 0s 3ms/step - loss: 9.5647 - mae: 9.5647 - val_loss: 58.2918 - val_mae: 58.2918\n",
      "Epoch 41/100\n",
      "14/14 [==============================] - 0s 3ms/step - loss: 9.6087 - mae: 9.6087 - val_loss: 56.2335 - val_mae: 56.2335\n",
      "Epoch 42/100\n",
      "14/14 [==============================] - 0s 3ms/step - loss: 10.3346 - mae: 10.3346 - val_loss: 58.9775 - val_mae: 58.9775\n",
      "Epoch 43/100\n",
      "14/14 [==============================] - 0s 3ms/step - loss: 9.8674 - mae: 9.8674 - val_loss: 54.5698 - val_mae: 54.5698\n",
      "INFO:tensorflow:Assets written to: .modelcheckpoint/model_experiments/model_1_dense/assets\n",
      "Epoch 44/100\n",
      "14/14 [==============================] - 0s 3ms/step - loss: 8.7770 - mae: 8.7770 - val_loss: 55.9264 - val_mae: 55.9264\n"
     ]
    },
    {
     "name": "stdout",
     "output_type": "stream",
     "text": [
      "Epoch 45/100\n",
      "14/14 [==============================] - 0s 3ms/step - loss: 9.0622 - mae: 9.0622 - val_loss: 54.5412 - val_mae: 54.5412\n",
      "INFO:tensorflow:Assets written to: .modelcheckpoint/model_experiments/model_1_dense/assets\n",
      "Epoch 46/100\n",
      "14/14 [==============================] - 0s 3ms/step - loss: 9.7535 - mae: 9.7535 - val_loss: 59.3979 - val_mae: 59.3979\n",
      "Epoch 47/100\n",
      "14/14 [==============================] - 0s 3ms/step - loss: 10.3451 - mae: 10.3451 - val_loss: 54.3044 - val_mae: 54.3044\n",
      "INFO:tensorflow:Assets written to: .modelcheckpoint/model_experiments/model_1_dense/assets\n",
      "Epoch 48/100\n",
      "14/14 [==============================] - 0s 3ms/step - loss: 8.8223 - mae: 8.8223 - val_loss: 54.9269 - val_mae: 54.9269\n",
      "Epoch 49/100\n",
      "14/14 [==============================] - 0s 3ms/step - loss: 9.0285 - mae: 9.0285 - val_loss: 54.1193 - val_mae: 54.1193\n",
      "INFO:tensorflow:Assets written to: .modelcheckpoint/model_experiments/model_1_dense/assets\n",
      "Epoch 50/100\n",
      "14/14 [==============================] - 0s 3ms/step - loss: 8.7847 - mae: 8.7847 - val_loss: 56.4353 - val_mae: 56.4353\n",
      "Epoch 51/100\n",
      "14/14 [==============================] - 0s 3ms/step - loss: 10.4096 - mae: 10.4096 - val_loss: 55.0472 - val_mae: 55.0472\n",
      "Epoch 52/100\n",
      "14/14 [==============================] - 0s 3ms/step - loss: 9.7826 - mae: 9.7826 - val_loss: 54.4258 - val_mae: 54.4258\n",
      "Epoch 53/100\n",
      "14/14 [==============================] - 0s 3ms/step - loss: 8.8854 - mae: 8.8854 - val_loss: 55.1941 - val_mae: 55.1941\n",
      "Epoch 54/100\n",
      "14/14 [==============================] - 0s 3ms/step - loss: 8.6493 - mae: 8.6493 - val_loss: 56.3171 - val_mae: 56.3171\n",
      "Epoch 55/100\n",
      "14/14 [==============================] - 0s 3ms/step - loss: 10.5941 - mae: 10.5941 - val_loss: 53.9698 - val_mae: 53.9698\n",
      "INFO:tensorflow:Assets written to: .modelcheckpoint/model_experiments/model_1_dense/assets\n",
      "Epoch 56/100\n",
      "14/14 [==============================] - 0s 3ms/step - loss: 10.4392 - mae: 10.4392 - val_loss: 58.9283 - val_mae: 58.9283\n",
      "Epoch 57/100\n",
      "14/14 [==============================] - 0s 3ms/step - loss: 8.7330 - mae: 8.7330 - val_loss: 53.7198 - val_mae: 53.7198\n",
      "INFO:tensorflow:Assets written to: .modelcheckpoint/model_experiments/model_1_dense/assets\n",
      "Epoch 58/100\n",
      "14/14 [==============================] - 0s 3ms/step - loss: 8.6637 - mae: 8.6637 - val_loss: 54.0281 - val_mae: 54.0281\n",
      "Epoch 59/100\n",
      "14/14 [==============================] - 0s 3ms/step - loss: 9.0617 - mae: 9.0617 - val_loss: 53.6446 - val_mae: 53.6446\n",
      "INFO:tensorflow:Assets written to: .modelcheckpoint/model_experiments/model_1_dense/assets\n",
      "Epoch 60/100\n",
      "14/14 [==============================] - 0s 3ms/step - loss: 8.8226 - mae: 8.8226 - val_loss: 54.1494 - val_mae: 54.1494\n",
      "Epoch 61/100\n",
      "14/14 [==============================] - 0s 3ms/step - loss: 9.2409 - mae: 9.2409 - val_loss: 53.5867 - val_mae: 53.5867\n",
      "INFO:tensorflow:Assets written to: .modelcheckpoint/model_experiments/model_1_dense/assets\n",
      "Epoch 62/100\n",
      "14/14 [==============================] - 0s 3ms/step - loss: 8.5867 - mae: 8.5867 - val_loss: 53.4568 - val_mae: 53.4568\n",
      "INFO:tensorflow:Assets written to: .modelcheckpoint/model_experiments/model_1_dense/assets\n",
      "Epoch 63/100\n",
      "14/14 [==============================] - 0s 3ms/step - loss: 8.7623 - mae: 8.7623 - val_loss: 54.1556 - val_mae: 54.1556\n",
      "Epoch 64/100\n",
      "14/14 [==============================] - 0s 10ms/step - loss: 8.8857 - mae: 8.8857 - val_loss: 55.3174 - val_mae: 55.3174\n",
      "Epoch 65/100\n",
      "14/14 [==============================] - 0s 3ms/step - loss: 8.7437 - mae: 8.7437 - val_loss: 55.4913 - val_mae: 55.4913\n",
      "Epoch 66/100\n",
      "14/14 [==============================] - 0s 3ms/step - loss: 9.8154 - mae: 9.8154 - val_loss: 55.5521 - val_mae: 55.5521\n",
      "Epoch 67/100\n",
      "14/14 [==============================] - 0s 3ms/step - loss: 8.8004 - mae: 8.8004 - val_loss: 53.6096 - val_mae: 53.6096\n",
      "Epoch 68/100\n",
      "14/14 [==============================] - 0s 3ms/step - loss: 9.3768 - mae: 9.3768 - val_loss: 54.0672 - val_mae: 54.0672\n",
      "Epoch 69/100\n",
      "14/14 [==============================] - 0s 3ms/step - loss: 8.9930 - mae: 8.9930 - val_loss: 53.6107 - val_mae: 53.6107\n",
      "Epoch 70/100\n",
      "14/14 [==============================] - 0s 3ms/step - loss: 8.8128 - mae: 8.8128 - val_loss: 53.2650 - val_mae: 53.2650\n",
      "INFO:tensorflow:Assets written to: .modelcheckpoint/model_experiments/model_1_dense/assets\n",
      "Epoch 71/100\n",
      "14/14 [==============================] - 0s 3ms/step - loss: 8.8651 - mae: 8.8651 - val_loss: 53.2879 - val_mae: 53.2879\n",
      "Epoch 72/100\n",
      "14/14 [==============================] - 0s 3ms/step - loss: 8.9971 - mae: 8.9971 - val_loss: 53.7008 - val_mae: 53.7008\n",
      "Epoch 73/100\n",
      "14/14 [==============================] - 0s 3ms/step - loss: 8.8831 - mae: 8.8831 - val_loss: 53.3959 - val_mae: 53.3959\n",
      "Epoch 74/100\n",
      "14/14 [==============================] - 0s 3ms/step - loss: 9.0494 - mae: 9.0494 - val_loss: 53.1618 - val_mae: 53.1618\n",
      "INFO:tensorflow:Assets written to: .modelcheckpoint/model_experiments/model_1_dense/assets\n",
      "Epoch 75/100\n",
      "14/14 [==============================] - 0s 3ms/step - loss: 8.5672 - mae: 8.5672 - val_loss: 55.6146 - val_mae: 55.6146\n",
      "Epoch 76/100\n",
      "14/14 [==============================] - 0s 3ms/step - loss: 9.8170 - mae: 9.8170 - val_loss: 53.8187 - val_mae: 53.8187\n",
      "Epoch 77/100\n",
      "14/14 [==============================] - 0s 3ms/step - loss: 9.3935 - mae: 9.3935 - val_loss: 59.5983 - val_mae: 59.5983\n",
      "Epoch 78/100\n",
      "14/14 [==============================] - 0s 3ms/step - loss: 9.5918 - mae: 9.5918 - val_loss: 56.0363 - val_mae: 56.0363\n",
      "Epoch 79/100\n",
      "14/14 [==============================] - 0s 3ms/step - loss: 9.4075 - mae: 9.4075 - val_loss: 54.9690 - val_mae: 54.9690\n",
      "Epoch 80/100\n",
      "14/14 [==============================] - 0s 3ms/step - loss: 9.3078 - mae: 9.3078 - val_loss: 53.8111 - val_mae: 53.8111\n",
      "Epoch 81/100\n",
      "14/14 [==============================] - 0s 3ms/step - loss: 8.7880 - mae: 8.7880 - val_loss: 57.0854 - val_mae: 57.0854\n",
      "Epoch 82/100\n",
      "14/14 [==============================] - 0s 3ms/step - loss: 8.9866 - mae: 8.9866 - val_loss: 58.4165 - val_mae: 58.4165\n",
      "Epoch 83/100\n",
      "14/14 [==============================] - 0s 3ms/step - loss: 9.1851 - mae: 9.1851 - val_loss: 56.4216 - val_mae: 56.4216\n",
      "Epoch 84/100\n",
      "14/14 [==============================] - 0s 3ms/step - loss: 9.7323 - mae: 9.7323 - val_loss: 53.4607 - val_mae: 53.4607\n",
      "Epoch 85/100\n",
      "14/14 [==============================] - 0s 3ms/step - loss: 9.0711 - mae: 9.0711 - val_loss: 53.0443 - val_mae: 53.0443\n",
      "INFO:tensorflow:Assets written to: .modelcheckpoint/model_experiments/model_1_dense/assets\n",
      "Epoch 86/100\n",
      "14/14 [==============================] - 0s 3ms/step - loss: 8.6484 - mae: 8.6484 - val_loss: 53.1084 - val_mae: 53.1084\n",
      "Epoch 87/100\n",
      "14/14 [==============================] - 0s 3ms/step - loss: 10.1916 - mae: 10.1916 - val_loss: 57.2036 - val_mae: 57.2036\n",
      "Epoch 88/100\n",
      "14/14 [==============================] - 0s 8ms/step - loss: 9.6919 - mae: 9.6919 - val_loss: 53.9077 - val_mae: 53.9077\n",
      "Epoch 89/100\n",
      "14/14 [==============================] - 0s 3ms/step - loss: 9.3606 - mae: 9.3606 - val_loss: 53.0182 - val_mae: 53.0182\n",
      "INFO:tensorflow:Assets written to: .modelcheckpoint/model_experiments/model_1_dense/assets\n",
      "Epoch 90/100\n",
      "14/14 [==============================] - 0s 3ms/step - loss: 9.6504 - mae: 9.6504 - val_loss: 53.0351 - val_mae: 53.0351\n",
      "Epoch 91/100\n",
      "14/14 [==============================] - 0s 3ms/step - loss: 9.4502 - mae: 9.4502 - val_loss: 53.4300 - val_mae: 53.4300\n",
      "Epoch 92/100\n",
      "14/14 [==============================] - 0s 3ms/step - loss: 9.1280 - mae: 9.1280 - val_loss: 53.0592 - val_mae: 53.0592\n",
      "Epoch 93/100\n",
      "14/14 [==============================] - 0s 3ms/step - loss: 8.5075 - mae: 8.5075 - val_loss: 53.2329 - val_mae: 53.2329\n",
      "Epoch 94/100\n",
      "14/14 [==============================] - 0s 3ms/step - loss: 8.5035 - mae: 8.5035 - val_loss: 56.3756 - val_mae: 56.3756\n",
      "Epoch 95/100\n",
      "14/14 [==============================] - 0s 3ms/step - loss: 9.6312 - mae: 9.6312 - val_loss: 53.0413 - val_mae: 53.0413\n",
      "Epoch 96/100\n",
      "14/14 [==============================] - 0s 3ms/step - loss: 9.2509 - mae: 9.2509 - val_loss: 54.8911 - val_mae: 54.8911\n",
      "Epoch 97/100\n",
      "14/14 [==============================] - 0s 3ms/step - loss: 9.0692 - mae: 9.0692 - val_loss: 58.2818 - val_mae: 58.2818\n"
     ]
    },
    {
     "name": "stdout",
     "output_type": "stream",
     "text": [
      "Epoch 98/100\n",
      "14/14 [==============================] - 0s 3ms/step - loss: 10.3887 - mae: 10.3887 - val_loss: 55.3618 - val_mae: 55.3618\n",
      "Epoch 99/100\n",
      "14/14 [==============================] - 0s 3ms/step - loss: 8.7254 - mae: 8.7254 - val_loss: 53.4101 - val_mae: 53.4101\n",
      "Epoch 100/100\n",
      "14/14 [==============================] - 0s 3ms/step - loss: 8.9161 - mae: 8.9161 - val_loss: 52.9517 - val_mae: 52.9517\n",
      "INFO:tensorflow:Assets written to: .modelcheckpoint/model_experiments/model_1_dense/assets\n"
     ]
    },
    {
     "data": {
      "text/plain": [
       "<tensorflow.python.keras.callbacks.History at 0x7f8575b87750>"
      ]
     },
     "execution_count": 31,
     "metadata": {},
     "output_type": "execute_result"
    }
   ],
   "source": [
    "import tensorflow as tf\n",
    "from tensorflow.keras import layers\n",
    "\n",
    "# Set random seed for as reproducible results as possible\n",
    "tf.random.set_seed(42)\n",
    "\n",
    "# Construct model\n",
    "model_1 = tf.keras.Sequential([\n",
    "  layers.Dense(128, activation=\"relu\"),\n",
    "  layers.Dense(HORIZON, activation=\"linear\") # linear activation is the same as having no activation                        \n",
    "], name=\"model_1_dense\") # give the model a name so we can save it\n",
    "\n",
    "# Compile model\n",
    "model_1.compile(loss=\"mae\",\n",
    "                optimizer=tf.keras.optimizers.Adam(),\n",
    "                metrics=[\"mae\"]) # we don't necessarily need this when the loss function is already MAE\n",
    "\n",
    "# Fit model\n",
    "model_1.fit(x=train_windows, # train windows of 7 timesteps of Bitcoin prices\n",
    "            y=train_labels, # horizon value of 1 (using the previous 7 timesteps to predict next day)\n",
    "            epochs=100,\n",
    "            verbose=1,\n",
    "            batch_size=128,\n",
    "            validation_data=(test_windows, test_labels),\n",
    "            callbacks=[create_model_checkpoint(model_name=model_1.name)]) # create ModelCheckpoint callback to save best model"
   ]
  },
  {
   "cell_type": "code",
   "execution_count": 32,
   "metadata": {},
   "outputs": [
    {
     "name": "stdout",
     "output_type": "stream",
     "text": [
      "14/14 [==============================] - 0s 619us/step - loss: 52.9517 - mae: 52.9517\n"
     ]
    },
    {
     "data": {
      "text/plain": [
       "[52.951663970947266, 52.951663970947266]"
      ]
     },
     "execution_count": 32,
     "metadata": {},
     "output_type": "execute_result"
    }
   ],
   "source": [
    "# Evaluate model on test data\n",
    "model_1.evaluate(test_windows, test_labels)"
   ]
  },
  {
   "cell_type": "code",
   "execution_count": 33,
   "metadata": {},
   "outputs": [],
   "source": [
    "def make_preds(model, input_data):\n",
    "    \"\"\"\n",
    "    Uses model to make predictions on input_data.\n",
    "\n",
    "    Parameters\n",
    "    ----------\n",
    "    model: trained model \n",
    "    input_data: windowed input data (same kind of data model was trained on)\n",
    "\n",
    "    Returns model predictions on input_data.\n",
    "    \"\"\"\n",
    "    forecast = model.predict(input_data)\n",
    "    return tf.squeeze(forecast) # return 1D array of predictions"
   ]
  },
  {
   "cell_type": "code",
   "execution_count": 34,
   "metadata": {},
   "outputs": [
    {
     "data": {
      "text/plain": [
       "(432,\n",
       " <tf.Tensor: shape=(10,), dtype=float32, numpy=\n",
       " array([208.44615, 208.90512, 207.49724, 204.57616, 202.86662, 206.61192,\n",
       "        216.25699, 221.60905, 241.5721 , 236.13994], dtype=float32)>)"
      ]
     },
     "execution_count": 34,
     "metadata": {},
     "output_type": "execute_result"
    }
   ],
   "source": [
    "# Make predictions using model_1 on the test dataset and view the results\n",
    "model_1_preds = make_preds(model_1, test_windows)\n",
    "len(model_1_preds), model_1_preds[:10]"
   ]
  },
  {
   "cell_type": "code",
   "execution_count": 35,
   "metadata": {},
   "outputs": [
    {
     "data": {
      "text/plain": [
       "{'mae': 52.95168,\n",
       " 'mse': 9233.522,\n",
       " 'rmse': 96.09122,\n",
       " 'mape': 3.7896605,\n",
       " 'mase': 1.011261}"
      ]
     },
     "execution_count": 35,
     "metadata": {},
     "output_type": "execute_result"
    }
   ],
   "source": [
    "# Evaluate preds\n",
    "model_1_results = evaluate_preds(y_true=tf.squeeze(test_labels), # reduce to right shape\n",
    "                                 y_pred=model_1_preds)\n",
    "model_1_results"
   ]
  },
  {
   "cell_type": "code",
   "execution_count": 43,
   "metadata": {},
   "outputs": [
    {
     "data": {
      "image/png": "[encoded data removed]",
      "text/plain": [
       "<Figure size 720x504 with 1 Axes>"
      ]
     },
     "metadata": {
      "needs_background": "light"
     },
     "output_type": "display_data"
    }
   ],
   "source": [
    "offset = 200\n",
    "plt.figure(figsize=(10, 7))\n",
    "# Account for the test_window offset and index into test_labels to ensure correct plotting\n",
    "plot_time_series(timesteps=X_test[-len(test_windows):], values=test_labels[:, 0], start=offset, label=\"Test_data\")\n",
    "plot_time_series(timesteps=X_test[-len(test_windows):], values=model_1_preds, start=offset, format=\"-\", label=\"model_1_preds\")\n"
   ]
  },
  {
   "cell_type": "code",
   "execution_count": 53,
   "metadata": {},
   "outputs": [],
   "source": [
    "block_reward_2 = 25 # 28 November 2012\n",
    "block_reward_3 = 12.5 # 9 July 2016\n",
    "block_reward_4 = 6.25 # 11 May 2020\n",
    "\n",
    "block_reward_2_datetime = np.datetime64(\"2012-11-28\")\n",
    "block_reward_3_datetime = np.datetime64(\"2016-07-09\")\n",
    "block_reward_4_datetime = np.datetime64(\"2020-05-11\")"
   ]
  },
  {
   "cell_type": "code",
   "execution_count": 54,
   "metadata": {},
   "outputs": [
    {
     "data": {
      "text/plain": [
       "1737"
      ]
     },
     "execution_count": 54,
     "metadata": {},
     "output_type": "execute_result"
    }
   ],
   "source": [
    "# Get date indexes for when to add in different block dates\n",
    "block_reward_2_days = (block_reward_3_datetime - eth_prices.index[0]).days\n",
    "block_reward_3_days = (block_reward_4_datetime - eth_prices.index[0]).days\n",
    "block_reward_3_days"
   ]
  },
  {
   "cell_type": "code",
   "execution_count": 55,
   "metadata": {},
   "outputs": [
    {
     "data": {
      "text/html": [
       "<div>\n",
       "<style scoped>\n",
       "    .dataframe tbody tr th:only-of-type {\n",
       "        vertical-align: middle;\n",
       "    }\n",
       "\n",
       "    .dataframe tbody tr th {\n",
       "        vertical-align: top;\n",
       "    }\n",
       "\n",
       "    .dataframe thead th {\n",
       "        text-align: right;\n",
       "    }\n",
       "</style>\n",
       "<table border=\"1\" class=\"dataframe\">\n",
       "  <thead>\n",
       "    <tr style=\"text-align: right;\">\n",
       "      <th></th>\n",
       "      <th>Price</th>\n",
       "      <th>block_reward</th>\n",
       "    </tr>\n",
       "    <tr>\n",
       "      <th>Date</th>\n",
       "      <th></th>\n",
       "      <th></th>\n",
       "    </tr>\n",
       "  </thead>\n",
       "  <tbody>\n",
       "    <tr>\n",
       "      <th>2015-08-09</th>\n",
       "      <td>0.909046</td>\n",
       "      <td>25</td>\n",
       "    </tr>\n",
       "    <tr>\n",
       "      <th>2015-08-10</th>\n",
       "      <td>0.692321</td>\n",
       "      <td>25</td>\n",
       "    </tr>\n",
       "    <tr>\n",
       "      <th>2015-08-11</th>\n",
       "      <td>0.668067</td>\n",
       "      <td>25</td>\n",
       "    </tr>\n",
       "    <tr>\n",
       "      <th>2015-08-12</th>\n",
       "      <td>0.850151</td>\n",
       "      <td>25</td>\n",
       "    </tr>\n",
       "    <tr>\n",
       "      <th>2015-08-13</th>\n",
       "      <td>1.266023</td>\n",
       "      <td>25</td>\n",
       "    </tr>\n",
       "  </tbody>\n",
       "</table>\n",
       "</div>"
      ],
      "text/plain": [
       "               Price block_reward\n",
       "Date                             \n",
       "2015-08-09  0.909046           25\n",
       "2015-08-10  0.692321           25\n",
       "2015-08-11  0.668067           25\n",
       "2015-08-12  0.850151           25\n",
       "2015-08-13  1.266023           25"
      ]
     },
     "execution_count": 55,
     "metadata": {},
     "output_type": "execute_result"
    }
   ],
   "source": [
    "# Add block_reward column\n",
    "eth_prices_block = eth_prices.copy()\n",
    "eth_prices_block[\"block_reward\"] = None\n",
    "\n",
    "# Set values of block_reward column (it's the last column hence -1 indexing on iloc)\n",
    "eth_prices_block.iloc[:block_reward_2_days, -1] = block_reward_2\n",
    "eth_prices_block.iloc[block_reward_2_days:block_reward_3_days, -1] = block_reward_3\n",
    "eth_prices_block.iloc[block_reward_3_days:, -1] = block_reward_4\n",
    "eth_prices_block.head()"
   ]
  },
  {
   "cell_type": "code",
   "execution_count": 58,
   "metadata": {},
   "outputs": [
    {
     "data": {
      "image/png": "[encoded data removed]",
      "text/plain": [
       "<Figure size 720x504 with 1 Axes>"
      ]
     },
     "metadata": {
      "needs_background": "light"
     },
     "output_type": "display_data"
    }
   ],
   "source": [
    "# Plot the block reward/price over time\n",
    "# Note: Because of the different scales of our values we'll scale them to be between 0 and 1.\n",
    "from sklearn.preprocessing import minmax_scale\n",
    "scaled_price_block_df = pd.DataFrame(minmax_scale(eth_prices_block[[\"Price\", \"block_reward\"]]), # we need to scale the data first\n",
    "                                     columns=eth_prices_block.columns,\n",
    "                                     index=eth_prices_block.index)\n",
    "scaled_price_block_df.plot(figsize=(10, 7));"
   ]
  },
  {
   "cell_type": "code",
   "execution_count": 59,
   "metadata": {},
   "outputs": [],
   "source": [
    "# Setup dataset hyperparameters\n",
    "HORIZON = 1\n",
    "WINDOW_SIZE = 7"
   ]
  },
  {
   "cell_type": "code",
   "execution_count": 60,
   "metadata": {},
   "outputs": [
    {
     "data": {
      "text/html": [
       "<div>\n",
       "<style scoped>\n",
       "    .dataframe tbody tr th:only-of-type {\n",
       "        vertical-align: middle;\n",
       "    }\n",
       "\n",
       "    .dataframe tbody tr th {\n",
       "        vertical-align: top;\n",
       "    }\n",
       "\n",
       "    .dataframe thead th {\n",
       "        text-align: right;\n",
       "    }\n",
       "</style>\n",
       "<table border=\"1\" class=\"dataframe\">\n",
       "  <thead>\n",
       "    <tr style=\"text-align: right;\">\n",
       "      <th></th>\n",
       "      <th>Price</th>\n",
       "      <th>block_reward</th>\n",
       "      <th>Price+1</th>\n",
       "      <th>Price+2</th>\n",
       "      <th>Price+3</th>\n",
       "      <th>Price+4</th>\n",
       "      <th>Price+5</th>\n",
       "      <th>Price+6</th>\n",
       "      <th>Price+7</th>\n",
       "    </tr>\n",
       "    <tr>\n",
       "      <th>Date</th>\n",
       "      <th></th>\n",
       "      <th></th>\n",
       "      <th></th>\n",
       "      <th></th>\n",
       "      <th></th>\n",
       "      <th></th>\n",
       "      <th></th>\n",
       "      <th></th>\n",
       "      <th></th>\n",
       "    </tr>\n",
       "  </thead>\n",
       "  <tbody>\n",
       "    <tr>\n",
       "      <th>2015-08-09</th>\n",
       "      <td>0.909046</td>\n",
       "      <td>25</td>\n",
       "      <td>NaN</td>\n",
       "      <td>NaN</td>\n",
       "      <td>NaN</td>\n",
       "      <td>NaN</td>\n",
       "      <td>NaN</td>\n",
       "      <td>NaN</td>\n",
       "      <td>NaN</td>\n",
       "    </tr>\n",
       "    <tr>\n",
       "      <th>2015-08-10</th>\n",
       "      <td>0.692321</td>\n",
       "      <td>25</td>\n",
       "      <td>0.909046</td>\n",
       "      <td>NaN</td>\n",
       "      <td>NaN</td>\n",
       "      <td>NaN</td>\n",
       "      <td>NaN</td>\n",
       "      <td>NaN</td>\n",
       "      <td>NaN</td>\n",
       "    </tr>\n",
       "    <tr>\n",
       "      <th>2015-08-11</th>\n",
       "      <td>0.668067</td>\n",
       "      <td>25</td>\n",
       "      <td>0.692321</td>\n",
       "      <td>0.909046</td>\n",
       "      <td>NaN</td>\n",
       "      <td>NaN</td>\n",
       "      <td>NaN</td>\n",
       "      <td>NaN</td>\n",
       "      <td>NaN</td>\n",
       "    </tr>\n",
       "    <tr>\n",
       "      <th>2015-08-12</th>\n",
       "      <td>0.850151</td>\n",
       "      <td>25</td>\n",
       "      <td>0.668067</td>\n",
       "      <td>0.692321</td>\n",
       "      <td>0.909046</td>\n",
       "      <td>NaN</td>\n",
       "      <td>NaN</td>\n",
       "      <td>NaN</td>\n",
       "      <td>NaN</td>\n",
       "    </tr>\n",
       "    <tr>\n",
       "      <th>2015-08-13</th>\n",
       "      <td>1.266023</td>\n",
       "      <td>25</td>\n",
       "      <td>0.850151</td>\n",
       "      <td>0.668067</td>\n",
       "      <td>0.692321</td>\n",
       "      <td>0.909046</td>\n",
       "      <td>NaN</td>\n",
       "      <td>NaN</td>\n",
       "      <td>NaN</td>\n",
       "    </tr>\n",
       "    <tr>\n",
       "      <th>2015-08-14</th>\n",
       "      <td>1.951460</td>\n",
       "      <td>25</td>\n",
       "      <td>1.266023</td>\n",
       "      <td>0.850151</td>\n",
       "      <td>0.668067</td>\n",
       "      <td>0.692321</td>\n",
       "      <td>0.909046</td>\n",
       "      <td>NaN</td>\n",
       "      <td>NaN</td>\n",
       "    </tr>\n",
       "    <tr>\n",
       "      <th>2015-08-15</th>\n",
       "      <td>1.591219</td>\n",
       "      <td>25</td>\n",
       "      <td>1.951460</td>\n",
       "      <td>1.266023</td>\n",
       "      <td>0.850151</td>\n",
       "      <td>0.668067</td>\n",
       "      <td>0.692321</td>\n",
       "      <td>0.909046</td>\n",
       "      <td>NaN</td>\n",
       "    </tr>\n",
       "    <tr>\n",
       "      <th>2015-08-16</th>\n",
       "      <td>1.693707</td>\n",
       "      <td>25</td>\n",
       "      <td>1.591219</td>\n",
       "      <td>1.951460</td>\n",
       "      <td>1.266023</td>\n",
       "      <td>0.850151</td>\n",
       "      <td>0.668067</td>\n",
       "      <td>0.692321</td>\n",
       "      <td>0.909046</td>\n",
       "    </tr>\n",
       "    <tr>\n",
       "      <th>2015-08-17</th>\n",
       "      <td>1.423244</td>\n",
       "      <td>25</td>\n",
       "      <td>1.693707</td>\n",
       "      <td>1.591219</td>\n",
       "      <td>1.951460</td>\n",
       "      <td>1.266023</td>\n",
       "      <td>0.850151</td>\n",
       "      <td>0.668067</td>\n",
       "      <td>0.692321</td>\n",
       "    </tr>\n",
       "    <tr>\n",
       "      <th>2015-08-18</th>\n",
       "      <td>1.199595</td>\n",
       "      <td>25</td>\n",
       "      <td>1.423244</td>\n",
       "      <td>1.693707</td>\n",
       "      <td>1.591219</td>\n",
       "      <td>1.951460</td>\n",
       "      <td>1.266023</td>\n",
       "      <td>0.850151</td>\n",
       "      <td>0.668067</td>\n",
       "    </tr>\n",
       "  </tbody>\n",
       "</table>\n",
       "</div>"
      ],
      "text/plain": [
       "               Price block_reward   Price+1   Price+2   Price+3   Price+4  \\\n",
       "Date                                                                        \n",
       "2015-08-09  0.909046           25       NaN       NaN       NaN       NaN   \n",
       "2015-08-10  0.692321           25  0.909046       NaN       NaN       NaN   \n",
       "2015-08-11  0.668067           25  0.692321  0.909046       NaN       NaN   \n",
       "2015-08-12  0.850151           25  0.668067  0.692321  0.909046       NaN   \n",
       "2015-08-13  1.266023           25  0.850151  0.668067  0.692321  0.909046   \n",
       "2015-08-14  1.951460           25  1.266023  0.850151  0.668067  0.692321   \n",
       "2015-08-15  1.591219           25  1.951460  1.266023  0.850151  0.668067   \n",
       "2015-08-16  1.693707           25  1.591219  1.951460  1.266023  0.850151   \n",
       "2015-08-17  1.423244           25  1.693707  1.591219  1.951460  1.266023   \n",
       "2015-08-18  1.199595           25  1.423244  1.693707  1.591219  1.951460   \n",
       "\n",
       "             Price+5   Price+6   Price+7  \n",
       "Date                                      \n",
       "2015-08-09       NaN       NaN       NaN  \n",
       "2015-08-10       NaN       NaN       NaN  \n",
       "2015-08-11       NaN       NaN       NaN  \n",
       "2015-08-12       NaN       NaN       NaN  \n",
       "2015-08-13       NaN       NaN       NaN  \n",
       "2015-08-14  0.909046       NaN       NaN  \n",
       "2015-08-15  0.692321  0.909046       NaN  \n",
       "2015-08-16  0.668067  0.692321  0.909046  \n",
       "2015-08-17  0.850151  0.668067  0.692321  \n",
       "2015-08-18  1.266023  0.850151  0.668067  "
      ]
     },
     "execution_count": 60,
     "metadata": {},
     "output_type": "execute_result"
    }
   ],
   "source": [
    "# Make a copy of the Bitcoin historical data with block reward feature\n",
    "eth_prices_windowed = eth_prices_block.copy()\n",
    "\n",
    "# Add windowed columns\n",
    "for i in range(WINDOW_SIZE): # Shift values for each step in WINDOW_SIZE\n",
    "    eth_prices_windowed[f\"Price+{i+1}\"] = eth_prices_windowed[\"Price\"].shift(periods=i+1)\n",
    "eth_prices_windowed.head(10)"
   ]
  },
  {
   "cell_type": "code",
   "execution_count": 61,
   "metadata": {},
   "outputs": [
    {
     "data": {
      "text/html": [
       "<div>\n",
       "<style scoped>\n",
       "    .dataframe tbody tr th:only-of-type {\n",
       "        vertical-align: middle;\n",
       "    }\n",
       "\n",
       "    .dataframe tbody tr th {\n",
       "        vertical-align: top;\n",
       "    }\n",
       "\n",
       "    .dataframe thead th {\n",
       "        text-align: right;\n",
       "    }\n",
       "</style>\n",
       "<table border=\"1\" class=\"dataframe\">\n",
       "  <thead>\n",
       "    <tr style=\"text-align: right;\">\n",
       "      <th></th>\n",
       "      <th>block_reward</th>\n",
       "      <th>Price+1</th>\n",
       "      <th>Price+2</th>\n",
       "      <th>Price+3</th>\n",
       "      <th>Price+4</th>\n",
       "      <th>Price+5</th>\n",
       "      <th>Price+6</th>\n",
       "      <th>Price+7</th>\n",
       "    </tr>\n",
       "    <tr>\n",
       "      <th>Date</th>\n",
       "      <th></th>\n",
       "      <th></th>\n",
       "      <th></th>\n",
       "      <th></th>\n",
       "      <th></th>\n",
       "      <th></th>\n",
       "      <th></th>\n",
       "      <th></th>\n",
       "    </tr>\n",
       "  </thead>\n",
       "  <tbody>\n",
       "    <tr>\n",
       "      <th>2015-08-16</th>\n",
       "      <td>25.0</td>\n",
       "      <td>1.591219</td>\n",
       "      <td>1.951460</td>\n",
       "      <td>1.266023</td>\n",
       "      <td>0.850151</td>\n",
       "      <td>0.668067</td>\n",
       "      <td>0.692321</td>\n",
       "      <td>0.909046</td>\n",
       "    </tr>\n",
       "    <tr>\n",
       "      <th>2015-08-17</th>\n",
       "      <td>25.0</td>\n",
       "      <td>1.693707</td>\n",
       "      <td>1.591219</td>\n",
       "      <td>1.951460</td>\n",
       "      <td>1.266023</td>\n",
       "      <td>0.850151</td>\n",
       "      <td>0.668067</td>\n",
       "      <td>0.692321</td>\n",
       "    </tr>\n",
       "    <tr>\n",
       "      <th>2015-08-18</th>\n",
       "      <td>25.0</td>\n",
       "      <td>1.423244</td>\n",
       "      <td>1.693707</td>\n",
       "      <td>1.591219</td>\n",
       "      <td>1.951460</td>\n",
       "      <td>1.266023</td>\n",
       "      <td>0.850151</td>\n",
       "      <td>0.668067</td>\n",
       "    </tr>\n",
       "    <tr>\n",
       "      <th>2015-08-19</th>\n",
       "      <td>25.0</td>\n",
       "      <td>1.199595</td>\n",
       "      <td>1.423244</td>\n",
       "      <td>1.693707</td>\n",
       "      <td>1.591219</td>\n",
       "      <td>1.951460</td>\n",
       "      <td>1.266023</td>\n",
       "      <td>0.850151</td>\n",
       "    </tr>\n",
       "    <tr>\n",
       "      <th>2015-08-20</th>\n",
       "      <td>25.0</td>\n",
       "      <td>1.182837</td>\n",
       "      <td>1.199595</td>\n",
       "      <td>1.423244</td>\n",
       "      <td>1.693707</td>\n",
       "      <td>1.591219</td>\n",
       "      <td>1.951460</td>\n",
       "      <td>1.266023</td>\n",
       "    </tr>\n",
       "  </tbody>\n",
       "</table>\n",
       "</div>"
      ],
      "text/plain": [
       "            block_reward   Price+1   Price+2   Price+3   Price+4   Price+5  \\\n",
       "Date                                                                         \n",
       "2015-08-16          25.0  1.591219  1.951460  1.266023  0.850151  0.668067   \n",
       "2015-08-17          25.0  1.693707  1.591219  1.951460  1.266023  0.850151   \n",
       "2015-08-18          25.0  1.423244  1.693707  1.591219  1.951460  1.266023   \n",
       "2015-08-19          25.0  1.199595  1.423244  1.693707  1.591219  1.951460   \n",
       "2015-08-20          25.0  1.182837  1.199595  1.423244  1.693707  1.591219   \n",
       "\n",
       "             Price+6   Price+7  \n",
       "Date                            \n",
       "2015-08-16  0.692321  0.909046  \n",
       "2015-08-17  0.668067  0.692321  \n",
       "2015-08-18  0.850151  0.668067  \n",
       "2015-08-19  1.266023  0.850151  \n",
       "2015-08-20  1.951460  1.266023  "
      ]
     },
     "execution_count": 61,
     "metadata": {},
     "output_type": "execute_result"
    }
   ],
   "source": [
    "# Let's create X & y, remove the NaN's and convert to float32 to prevent TensorFlow errors \n",
    "X = eth_prices_windowed.dropna().drop(\"Price\", axis=1).astype(np.float32) \n",
    "y = eth_prices_windowed.dropna()[\"Price\"].astype(np.float32)\n",
    "X.head()"
   ]
  },
  {
   "cell_type": "code",
   "execution_count": 62,
   "metadata": {},
   "outputs": [
    {
     "data": {
      "text/plain": [
       "(1728, 1728, 432, 432)"
      ]
     },
     "execution_count": 62,
     "metadata": {},
     "output_type": "execute_result"
    }
   ],
   "source": [
    "# Make train and test sets\n",
    "split_size = int(len(X) * 0.8)\n",
    "X_train, y_train = X[:split_size], y[:split_size]\n",
    "X_test, y_test = X[split_size:], y[split_size:]\n",
    "len(X_train), len(y_train), len(X_test), len(y_test)"
   ]
  },
  {
   "cell_type": "code",
   "execution_count": 63,
   "metadata": {},
   "outputs": [
    {
     "name": "stdout",
     "output_type": "stream",
     "text": [
      "INFO:tensorflow:Assets written to: .modelcheckpoint/model_experiments/model_4_conv1D/assets\n",
      "INFO:tensorflow:Assets written to: .modelcheckpoint/model_experiments/model_4_conv1D/assets\n",
      "INFO:tensorflow:Assets written to: .modelcheckpoint/model_experiments/model_4_conv1D/assets\n",
      "INFO:tensorflow:Assets written to: .modelcheckpoint/model_experiments/model_4_conv1D/assets\n",
      "INFO:tensorflow:Assets written to: .modelcheckpoint/model_experiments/model_4_conv1D/assets\n",
      "INFO:tensorflow:Assets written to: .modelcheckpoint/model_experiments/model_4_conv1D/assets\n",
      "INFO:tensorflow:Assets written to: .modelcheckpoint/model_experiments/model_4_conv1D/assets\n",
      "INFO:tensorflow:Assets written to: .modelcheckpoint/model_experiments/model_4_conv1D/assets\n",
      "INFO:tensorflow:Assets written to: .modelcheckpoint/model_experiments/model_4_conv1D/assets\n",
      "INFO:tensorflow:Assets written to: .modelcheckpoint/model_experiments/model_4_conv1D/assets\n",
      "INFO:tensorflow:Assets written to: .modelcheckpoint/model_experiments/model_4_conv1D/assets\n",
      "INFO:tensorflow:Assets written to: .modelcheckpoint/model_experiments/model_4_conv1D/assets\n",
      "INFO:tensorflow:Assets written to: .modelcheckpoint/model_experiments/model_4_conv1D/assets\n",
      "INFO:tensorflow:Assets written to: .modelcheckpoint/model_experiments/model_4_conv1D/assets\n",
      "INFO:tensorflow:Assets written to: .modelcheckpoint/model_experiments/model_4_conv1D/assets\n",
      "INFO:tensorflow:Assets written to: .modelcheckpoint/model_experiments/model_4_conv1D/assets\n",
      "INFO:tensorflow:Assets written to: .modelcheckpoint/model_experiments/model_4_conv1D/assets\n",
      "INFO:tensorflow:Assets written to: .modelcheckpoint/model_experiments/model_4_conv1D/assets\n",
      "INFO:tensorflow:Assets written to: .modelcheckpoint/model_experiments/model_4_conv1D/assets\n",
      "INFO:tensorflow:Assets written to: .modelcheckpoint/model_experiments/model_4_conv1D/assets\n",
      "INFO:tensorflow:Assets written to: .modelcheckpoint/model_experiments/model_4_conv1D/assets\n",
      "INFO:tensorflow:Assets written to: .modelcheckpoint/model_experiments/model_4_conv1D/assets\n",
      "INFO:tensorflow:Assets written to: .modelcheckpoint/model_experiments/model_4_conv1D/assets\n",
      "INFO:tensorflow:Assets written to: .modelcheckpoint/model_experiments/model_4_conv1D/assets\n",
      "INFO:tensorflow:Assets written to: .modelcheckpoint/model_experiments/model_4_conv1D/assets\n",
      "INFO:tensorflow:Assets written to: .modelcheckpoint/model_experiments/model_4_conv1D/assets\n",
      "INFO:tensorflow:Assets written to: .modelcheckpoint/model_experiments/model_4_conv1D/assets\n",
      "INFO:tensorflow:Assets written to: .modelcheckpoint/model_experiments/model_4_conv1D/assets\n",
      "INFO:tensorflow:Assets written to: .modelcheckpoint/model_experiments/model_4_conv1D/assets\n",
      "INFO:tensorflow:Assets written to: .modelcheckpoint/model_experiments/model_4_conv1D/assets\n",
      "INFO:tensorflow:Assets written to: .modelcheckpoint/model_experiments/model_4_conv1D/assets\n",
      "INFO:tensorflow:Assets written to: .modelcheckpoint/model_experiments/model_4_conv1D/assets\n",
      "INFO:tensorflow:Assets written to: .modelcheckpoint/model_experiments/model_4_conv1D/assets\n",
      "INFO:tensorflow:Assets written to: .modelcheckpoint/model_experiments/model_4_conv1D/assets\n",
      "INFO:tensorflow:Assets written to: .modelcheckpoint/model_experiments/model_4_conv1D/assets\n",
      "INFO:tensorflow:Assets written to: .modelcheckpoint/model_experiments/model_4_conv1D/assets\n",
      "INFO:tensorflow:Assets written to: .modelcheckpoint/model_experiments/model_4_conv1D/assets\n",
      "INFO:tensorflow:Assets written to: .modelcheckpoint/model_experiments/model_4_conv1D/assets\n",
      "INFO:tensorflow:Assets written to: .modelcheckpoint/model_experiments/model_4_conv1D/assets\n",
      "INFO:tensorflow:Assets written to: .modelcheckpoint/model_experiments/model_4_conv1D/assets\n",
      "INFO:tensorflow:Assets written to: .modelcheckpoint/model_experiments/model_4_conv1D/assets\n",
      "INFO:tensorflow:Assets written to: .modelcheckpoint/model_experiments/model_4_conv1D/assets\n",
      "INFO:tensorflow:Assets written to: .modelcheckpoint/model_experiments/model_4_conv1D/assets\n",
      "INFO:tensorflow:Assets written to: .modelcheckpoint/model_experiments/model_4_conv1D/assets\n",
      "INFO:tensorflow:Assets written to: .modelcheckpoint/model_experiments/model_4_conv1D/assets\n",
      "INFO:tensorflow:Assets written to: .modelcheckpoint/model_experiments/model_4_conv1D/assets\n",
      "INFO:tensorflow:Assets written to: .modelcheckpoint/model_experiments/model_4_conv1D/assets\n"
     ]
    },
    {
     "data": {
      "text/plain": [
       "<tensorflow.python.keras.callbacks.History at 0x7f8575b87b90>"
      ]
     },
     "execution_count": 63,
     "metadata": {},
     "output_type": "execute_result"
    }
   ],
   "source": [
    "tf.random.set_seed(42)\n",
    "\n",
    "# Create model\n",
    "model_4 = tf.keras.Sequential([\n",
    "  # Create Lambda layer to reshape inputs, without this layer, the model will error\n",
    "  layers.Lambda(lambda x: tf.expand_dims(x, axis=1)), # resize the inputs to adjust for window size / Conv1D 3D input requirements\n",
    "  layers.Conv1D(filters=128, kernel_size=5, padding=\"causal\", activation=\"relu\"),\n",
    "  layers.Dense(HORIZON)\n",
    "], name=\"model_4_conv1D\")\n",
    "\n",
    "# Compile model\n",
    "model_4.compile(loss=\"mae\",\n",
    "                optimizer=tf.keras.optimizers.Adam())\n",
    "\n",
    "# Fit model\n",
    "model_4.fit(X_train,\n",
    "            y_train,\n",
    "            batch_size=128, \n",
    "            epochs=100,\n",
    "            verbose=0,\n",
    "            validation_data=(X_test, y_test),\n",
    "            callbacks=[create_model_checkpoint(model_name=model_4.name)])"
   ]
  },
  {
   "cell_type": "code",
   "execution_count": 65,
   "metadata": {},
   "outputs": [
    {
     "name": "stdout",
     "output_type": "stream",
     "text": [
      "14/14 [==============================] - 0s 922us/step - loss: 53.3214\n"
     ]
    },
    {
     "data": {
      "text/plain": [
       "53.321434020996094"
      ]
     },
     "execution_count": 65,
     "metadata": {},
     "output_type": "execute_result"
    }
   ],
   "source": [
    "# Load in best performing Conv1D model and evaluate it on the test data\n",
    "\n",
    "model_4.evaluate(X_test, y_test)"
   ]
  },
  {
   "cell_type": "code",
   "execution_count": 67,
   "metadata": {},
   "outputs": [
    {
     "data": {
      "text/plain": [
       "<tf.Tensor: shape=(10,), dtype=float32, numpy=\n",
       "array([208.17897, 209.12755, 207.63539, 204.48573, 203.0226 , 206.27089,\n",
       "       215.72557, 221.1686 , 240.82597, 236.1614 ], dtype=float32)>"
      ]
     },
     "execution_count": 67,
     "metadata": {},
     "output_type": "execute_result"
    }
   ],
   "source": [
    "# Make predictions\n",
    "model_4_preds = make_preds(model_4, X_test)\n",
    "model_4_preds[:10]\n"
   ]
  },
  {
   "cell_type": "code",
   "execution_count": 68,
   "metadata": {},
   "outputs": [
    {
     "data": {
      "text/plain": [
       "{'mae': 53.321434,\n",
       " 'mse': 9236.539,\n",
       " 'rmse': 96.10692,\n",
       " 'mape': 3.8012524,\n",
       " 'mase': 1.0183225}"
      ]
     },
     "execution_count": 68,
     "metadata": {},
     "output_type": "execute_result"
    }
   ],
   "source": [
    "# Evaluate predictions\n",
    "model_4_results = evaluate_preds(y_true=tf.squeeze(y_test),\n",
    "                                 y_pred=model_4_preds)\n",
    "model_4_results"
   ]
  },
  {
   "cell_type": "code",
   "execution_count": null,
   "metadata": {},
   "outputs": [],
   "source": []
  }
 ],
 "metadata": {
  "kernelspec": {
   "display_name": "Python 3",
   "language": "python",
   "name": "python3"
  },
  "language_info": {
   "codemirror_mode": {
    "name": "ipython",
    "version": 3
   },
   "file_extension": ".py",
   "mimetype": "text/x-python",
   "name": "python",
   "nbconvert_exporter": "python",
   "pygments_lexer": "ipython3",
   "version": "3.7.6"
  }
 },
 "nbformat": 4,
 "nbformat_minor": 4
}
